{
 "cells": [
  {
   "cell_type": "code",
   "execution_count": 17,
   "id": "3770490a-f847-420c-b015-851581a09cb5",
   "metadata": {},
   "outputs": [
    {
     "name": "stdout",
     "output_type": "stream",
     "text": [
      "Mean Absolute Error (MAE): 72.74823076923082\n",
      "First five predictions: [243.2965 281.593  239.484  221.63   199.0135]\n"
     ]
    }
   ],
   "source": [
    "import pandas as pd\n",
    "from sklearn.ensemble import RandomForestRegressor\n",
    "from sklearn.metrics import mean_absolute_error\n",
    "from sklearn.model_selection import train_test_split\n",
    "\n",
    "#defining the file path of our csv file\n",
    "file_path =\"/home/bree/Downloads/archive/E-commerce.csv\"\n",
    "\n",
    "#storing the data we want to use in ecommerce_data\n",
    "ecommerce_data = pd.read_csv(file_path)\n",
    "\n",
    "#displaying the first 5 rows of our data\n",
    "ecommerce_data.head()\n",
    "\n",
    "# Create target object and call it y\n",
    "y = ecommerce_data['Time on Site']\n",
    "\n",
    "# Create the features \n",
    "features = ['Age','Annual Income']\n",
    "X = ecommerce_data[features]\n",
    "\n",
    "# Split into validation and training data\n",
    "train_X, val_X, train_y, val_y = train_test_split(X, y, random_state=1)\n",
    "\n",
    "# Define the model\n",
    "ecommerce_data_model = RandomForestRegressor(n_estimators=100,random_state = 0)\n",
    "\n",
    "# Train the model\n",
    "ecommerce_data_model.fit(train_X,train_y)\n",
    "\n",
    "# Make predictions on the validation set\n",
    "val_predictions = ecommerce_data_model.predict(val_X)\n",
    "\n",
    "# Calculate the Mean Absolute Error (MAE)\n",
    "mae = mean_absolute_error(val_y, val_predictions)\n",
    "\n",
    "# Step 14: Print the results\n",
    "print(\"Mean Absolute Error (MAE):\", mae)\n",
    "print(\"First five predictions:\", val_predictions[:5])\n"
   ]
  },
  {
   "cell_type": "code",
   "execution_count": null,
   "id": "2bc9d967-a043-4885-9fd4-f1619640a008",
   "metadata": {},
   "outputs": [],
   "source": []
  }
 ],
 "metadata": {
  "kernelspec": {
   "display_name": "Python 3 (ipykernel)",
   "language": "python",
   "name": "python3"
  },
  "language_info": {
   "codemirror_mode": {
    "name": "ipython",
    "version": 3
   },
   "file_extension": ".py",
   "mimetype": "text/x-python",
   "name": "python",
   "nbconvert_exporter": "python",
   "pygments_lexer": "ipython3",
   "version": "3.12.3"
  }
 },
 "nbformat": 4,
 "nbformat_minor": 5
}
